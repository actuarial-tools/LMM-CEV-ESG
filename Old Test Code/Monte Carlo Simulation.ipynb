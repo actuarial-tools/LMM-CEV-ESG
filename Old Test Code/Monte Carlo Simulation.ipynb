{
 "cells": [
  {
   "cell_type": "code",
   "execution_count": 62,
   "metadata": {},
   "outputs": [],
   "source": [
    "%run InitialSetup.ipynb"
   ]
  },
  {
   "cell_type": "code",
   "execution_count": null,
   "metadata": {},
   "outputs": [],
   "source": [
    "\"1) Quick Calibration of parameters using Hagan\"\n",
    "#Vectorize functions\n",
    "H_Shift = np.vectorize(sigma_shifted_CEV_Hagan)\n",
    "Black = np.vectorize(payer_Black)\n",
    "\n",
    "#payer_Black(N, S0, expiry, tenor, K, sigma)\n",
    "\n",
    "# Select 1*2 swaption \n",
    "test_calib_data = vol_data['1Y 2Y']/10000\n",
    "\n",
    "S0 = 0.025\n",
    "K = 0.025\n",
    "N =  1e+5\n",
    "\n",
    "# Find all evaluation dates\n",
    "eval_dates = [DateParser.parseFormatted(datetime.strftime(date,'%Y-%m-%d'), '%Y-%m-%d') for date in test_calib_data.index]\n",
    "eval_dates = np.array(eval_dates)\n",
    "\n",
    "# Find all expiries & tenors\n",
    "expiry =  eval_dates + Period(2, Years)\n",
    "tenor = expiry + Period(1, Years)\n",
    "\n",
    "# Define the objective function\n",
    "opt_func = lambda test: np.sum(np.square(\n",
    "                    Black(N, S0,expiry, tenor, K, \n",
    "                          H_Shift(S0, K, test[0], test[1], test[2], eval_dates, expiry))-\n",
    "                    Black(N, S0,expiry, tenor, K, test_calib_data)))\n",
    "\n",
    "# Least Square Minimization - Derivative of Levenberg-Marquardt\n",
    "'''Note:\n",
    "test[0] = sigma (Volatility Parameter)\n",
    "test[1] = delta (Shift Parameter)\n",
    "test[2] = eta   (Power Parameter)'''\n",
    "value_LS = optimize.least_squares(opt_func, \n",
    "                       x0 = [0, 0, 0.5],\n",
    "                       ftol = 1e-15, \n",
    "                       xtol=1e-15, \n",
    "                       gtol=1e-09)\n",
    "value_LS"
   ]
  },
  {
   "cell_type": "code",
   "execution_count": null,
   "metadata": {},
   "outputs": [],
   "source": [
    "\"2) Diffusion of the Forward Rates\"\n",
    "# Initial Parameters\n",
    "F0 = 0\n",
    "sigma_1 = 0.001\n",
    "sigma_2 = 0.002\n",
    "rho = 0.002\n",
    "beta = 0.5\n",
    "timestep = 1/52 #Weekly timestep\n",
    "\n",
    "# Iteration\n",
    "\n",
    "    "
   ]
  }
 ],
 "metadata": {
  "kernelspec": {
   "display_name": "Python 3",
   "language": "python",
   "name": "python3"
  },
  "language_info": {
   "codemirror_mode": {
    "name": "ipython",
    "version": 3
   },
   "file_extension": ".py",
   "mimetype": "text/x-python",
   "name": "python",
   "nbconvert_exporter": "python",
   "pygments_lexer": "ipython3",
   "version": "3.7.3"
  }
 },
 "nbformat": 4,
 "nbformat_minor": 2
}
