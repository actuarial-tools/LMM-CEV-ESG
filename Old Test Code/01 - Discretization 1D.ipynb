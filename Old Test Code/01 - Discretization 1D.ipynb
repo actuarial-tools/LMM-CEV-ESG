{
 "cells": [
  {
   "cell_type": "code",
   "execution_count": 197,
   "metadata": {},
   "outputs": [],
   "source": [
    "import numpy as np\n",
    "from math import *\n",
    "import pandas as pd\n",
    "\n",
    "# Plotting Graphs\n",
    "import matplotlib.pyplot as plt\n",
    "\n",
    "# Random Variable Simulation\n",
    "from scipy import stats\n",
    "\n",
    "# Remove Warnings\n",
    "import warnings\n",
    "warnings.filterwarnings('ignore')"
   ]
  },
  {
   "cell_type": "code",
   "execution_count": 198,
   "metadata": {},
   "outputs": [],
   "source": [
    "'''TEST 1: ABSORPTION\n",
    "======================'''\n",
    "def fNAbsorption(F0, sigma1, eta, delta, timeSteps, expiry, numPaths):\n",
    "    dt = expiry/timeSteps\n",
    "    paths =  np.zeros((timeSteps+1, numPaths), np.float64)\n",
    "    paths[0] = F0\n",
    "    for t in range(1, timeSteps+1):\n",
    "        rand1 = np.random.standard_normal(numPaths)\n",
    "        rand1 = (rand1 - rand1.mean())/rand1.std()\n",
    "        paths[t] = np.maximum((np.maximum(paths[t-1],0) \n",
    "                            + sigma1*np.power(np.maximum(paths[t-1],0)+delta, eta)*sqrt(dt)*rand1) ,0)\n",
    "    return(paths)"
   ]
  },
  {
   "cell_type": "code",
   "execution_count": 199,
   "metadata": {},
   "outputs": [],
   "source": [
    "'''TEST 2: REFLECTION\n",
    "======================'''\n",
    "def fNReflection(F0, sigma1, eta, delta, timeSteps, expiry, numPaths):\n",
    "    dt = expiry/timeSteps\n",
    "    paths =  np.zeros((timeSteps+1, numPaths), np.float64)\n",
    "    paths[0] = F0 \n",
    "    for t in range(1, timeSteps+1):\n",
    "        rand1 = np.random.standard_normal(numPaths)\n",
    "        rand1 = (rand1 - rand1.mean())/rand1.std()\n",
    "        paths[t] = np.absolute(np.absolute(paths[t-1]) \n",
    "                            + sigma1*np.power(np.absolute(paths[t-1])+delta, eta)*sqrt(dt)*rand1)\n",
    "    return(paths)"
   ]
  },
  {
   "cell_type": "code",
   "execution_count": 200,
   "metadata": {},
   "outputs": [],
   "source": [
    "'''TEST 3: HIGHAM AND MAO\n",
    "=========================='''\n",
    "def fNHighamMao(F0, sigma1, eta, delta, timeSteps, expiry, numPaths):\n",
    "    dt = expiry/timeSteps\n",
    "    paths =  np.zeros((timeSteps+1, numPaths), np.float64)\n",
    "    paths[0] = F0 \n",
    "    for t in range(1, timeSteps+1):\n",
    "        rand1 = np.random.standard_normal(numPaths)\n",
    "        rand1 = (rand1 - rand1.mean())/rand1.std()\n",
    "        paths[t] = np.absolute(paths[t-1] \n",
    "                            + sigma1*np.power(np.absolute(paths[t-1])+delta, eta)*sqrt(dt)*rand1)\n",
    "    return(paths)"
   ]
  },
  {
   "cell_type": "code",
   "execution_count": 201,
   "metadata": {},
   "outputs": [],
   "source": [
    "'''TEST 4: PARTIAL TRUNCATION\n",
    "=============================='''\n",
    "def fNPartialTrunc(F0, sigma1,eta, delta, timeSteps, expiry, numPaths):\n",
    "    dt = expiry/timeSteps\n",
    "    paths =  np.zeros((timeSteps+1, numPaths), np.float64)\n",
    "    paths[0] = F0 \n",
    "    for t in range(1, timeSteps+1):\n",
    "        rand1 = np.random.standard_normal(numPaths)\n",
    "        rand1 = (rand1 - rand1.mean())/rand1.std()\n",
    "        paths[t] = np.maximum(paths[t-1] \n",
    "                            + sigma1*np.power(np.maximum(paths[t-1],0)+delta, eta)*sqrt(dt)*rand1,0)\n",
    "    return(paths)"
   ]
  },
  {
   "cell_type": "code",
   "execution_count": 202,
   "metadata": {},
   "outputs": [],
   "source": [
    "'''TEST 5: FULL TRUNCATION\n",
    "==========================='''\n",
    "def fNTrunc(F0, sigma1, eta, delta, timeSteps, expiry, numPaths):\n",
    "    dt = expiry/timeSteps\n",
    "    paths =  np.zeros((timeSteps+1, numPaths), np.float64)\n",
    "    paths[0] = F0 \n",
    "    for t in range(1, timeSteps+1):\n",
    "        rand1 = np.random.standard_normal(numPaths)\n",
    "        rand1 = (rand1 - rand1.mean())/rand1.std()\n",
    "        paths[t] = np.maximum(paths[t-1] \n",
    "                            + sigma1*np.power(np.maximum(paths[t-1],0)+delta, eta)*sqrt(dt)*rand1, 0)\n",
    "    return(paths)"
   ]
  },
  {
   "cell_type": "code",
   "execution_count": 203,
   "metadata": {},
   "outputs": [],
   "source": [
    "'''TEST 6: LOG EULER\n",
    "====================='''\n",
    "def fNLogEuler(F0, sigma1, eta, delta, timeSteps, expiry, numPaths):\n",
    "    dt = expiry/timeSteps\n",
    "    paths =  np.zeros((timeSteps+1, numPaths), np.float64)\n",
    "    paths[0] = F0 \n",
    "    for t in range(1, timeSteps+1):\n",
    "        rand1 = np.random.standard_normal(numPaths)\n",
    "        rand1 = (rand1 - rand1.mean())/rand1.std()\n",
    "        paths[t] = paths[t-1]*np.exp((np.power(paths[t-1]+delta, eta)/paths[t-1])*\n",
    "                   (((-0.5 *(np.power(paths[t-1]+delta, eta)/paths[t-1])*pow(sigma1,2)*dt)+ \n",
    "                     sigma1*rand1*sqrt(dt))))\n",
    "        \n",
    "    return(paths)"
   ]
  },
  {
   "cell_type": "code",
   "execution_count": 67,
   "metadata": {},
   "outputs": [],
   "source": [
    "loc = \"Data\\Calibration Data.xlsx\"\n",
    "\n",
    "# Obtain Swap Curve Data\n",
    "swapData = pd.read_excel(loc,\n",
    "                        sheet_name = \"Swap Rates Data\",\n",
    "                        skiprows= [0, 1,3],\n",
    "                       index_col = \"Dates\")\n",
    "\n",
    "# Decimal Notation\n",
    "swapData = pd.DataFrame.dropna(swapData, axis = 'rows')/100\n",
    "\n",
    "'''SPOT CURVE CONSTRUCTION\n",
    "==========================='''\n",
    "# Curve on evaluation date: 17/02/2020\n",
    "swapCurve = swapData.loc['2020-02-14']\n",
    "\n",
    "swapMaturities = np.array(([i for i in range(1,31)] + # Years\n",
    "                          [i*5 for i in range(7, 13)])) # 50 years\n",
    "\n",
    "# Linear Interpolate swap curve\n",
    "swapCurveInterp = np.interp(range(1, 61), swapMaturities, swapCurve)\n",
    "\n",
    "# Bootstrap to obtain Zero Coupon Curve\n",
    "zeroCoupon = [1]\n",
    "for i in range(0, 60):\n",
    "    zeroCoupon.append((1 - swapCurveInterp[i]*np.sum(zeroCoupon[:i]))/(1 + swapCurveInterp[i]))\n",
    "\n",
    "forwardCurve = [zeroCoupon[i-1]/zeroCoupon[i]-1 for i in range(1, 61)]"
   ]
  },
  {
   "cell_type": "code",
   "execution_count": 255,
   "metadata": {},
   "outputs": [],
   "source": [
    "'''CLOSED FORM CAP PRICER\n",
    "=========================='''\n",
    "def capletChiSquared(N, F0, K, expiry, sigma1, eta, delta):\n",
    "    # Define parameters\n",
    "    v = expiry*(pow(sigma1, 2))\n",
    "    a = pow(K+delta, 2*(1 - eta))/(pow(1 - eta, 2)* v)\n",
    "    b =1/(1 - eta)\n",
    "    c = pow(F0+delta, 2*(1 - eta))/(pow(1 - eta, 2)* v)\n",
    "    \n",
    "    price = N*zeroCoupon[expiry]*((F0+delta)*(1- stats.ncx2.cdf(a, b+2, c)) - (K+delta)*stats.ncx2.cdf(c, b, a))\n",
    "    return(price)\n",
    "\n",
    "'''MONTE CARLO PRICER\n",
    "========================='''\n",
    "def monteCarloCap(N, F0, strike, expiry, sigma1, eta, delta, timeSteps, numPaths):\n",
    "    steps = timeSteps * expiry\n",
    "    fT = fNLogEuler(forwardCurve[int(expiry)],sigma1, eta, delta, steps, expiry, numPaths)[steps]\n",
    "    price = N * zeroCoupon[expiry] * np.nanmean(np.maximum(fT - strike, 0))\n",
    "    return(price)"
   ]
  },
  {
   "cell_type": "code",
   "execution_count": null,
   "metadata": {},
   "outputs": [],
   "source": [
    "'Define the parameters'\n",
    "N = 1e+5\n",
    "delta = 0.01\n",
    "sigma1 = 0.001\n",
    "sigma2 = 0.001\n",
    "eta = 0.45\n",
    "strike = 0.001\n",
    "\n",
    "# Simulation Parameters\n",
    "expiry = 10\n",
    "timeSteps = 252\n",
    "numPaths = 10000\n",
    "\n",
    "steps = timeSteps * expiry\n",
    "paths = fNLogEuler(forwardCurve[int(expiry)],sigma1, eta, delta, steps, expiry, numPaths)[steps]\n",
    "plt.plot(paths)\n",
    "plt.show()"
   ]
  },
  {
   "cell_type": "code",
   "execution_count": null,
   "metadata": {},
   "outputs": [],
   "source": [
    "np.nanmean(fNAbsorption(forwardCurve[int(expiry)],sigma1, eta, delta, timeSteps, expiry, numPaths)[timeSteps])\n",
    "# forwardCurve[int(expiry)]"
   ]
  },
  {
   "cell_type": "code",
   "execution_count": null,
   "metadata": {},
   "outputs": [],
   "source": [
    "# Compute Cap Values\n",
    "print(capletChiSquared(N, forwardCurve[int(expiry)], strike, expiry, sigma1,eta, delta))\n",
    "print(monteCarloCap(N,forwardCurve[int(expiry)],strike, expiry, sigma1, eta, delta, timeSteps, numPaths ))"
   ]
  },
  {
   "cell_type": "code",
   "execution_count": null,
   "metadata": {},
   "outputs": [],
   "source": [
    "# Simulate under discretization schemes\n",
    "# absorption = fNAbsorption(forwardCurve[int(expiry)],sigma1, eta, delta, timeSteps, expiry, numPaths)\n",
    "# reflection = fNReflection(forwardCurve[int(expiry)],sigma1, eta, delta, timeSteps, expiry, numPaths)\n",
    "# highamMao = fNHighamMao(forwardCurve[int(expiry)],sigma1, eta, delta, timeSteps, expiry, numPaths)\n",
    "# partialTrunc = fNPartialTrunc(forwardCurve[int(expiry)],sigma1, eta, delta, timeSteps, expiry, numPaths)\n",
    "# fullTrunc = fNTrunc(forwardCurve[int(expiry)],sigma1, eta, delta, timeSteps, expiry, numPaths)\n",
    "# logEuler = fNLogEuler(forwardCurve[int(expiry)],sigma1, eta, delta, timeSteps, expiry, numPaths)"
   ]
  }
 ],
 "metadata": {
  "kernelspec": {
   "display_name": "Python 3",
   "language": "python",
   "name": "python3"
  },
  "language_info": {
   "codemirror_mode": {
    "name": "ipython",
    "version": 3
   },
   "file_extension": ".py",
   "mimetype": "text/x-python",
   "name": "python",
   "nbconvert_exporter": "python",
   "pygments_lexer": "ipython3",
   "version": "3.7.3"
  }
 },
 "nbformat": 4,
 "nbformat_minor": 2
}
