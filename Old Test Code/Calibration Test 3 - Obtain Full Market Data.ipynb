{
 "cells": [
  {
   "cell_type": "code",
   "execution_count": 3,
   "metadata": {},
   "outputs": [
    {
     "data": {
      "text/plain": [
       "'Data Available\\n\\n1) Swap Curves based on today\\n2) Historical Swap Data\\n3) Historical Black Volatility Data\\n4) Historical OIS Data\\n5) Pricers and Hagan Approximation'"
      ]
     },
     "execution_count": 3,
     "metadata": {},
     "output_type": "execute_result"
    }
   ],
   "source": [
    "#Setup our Environment ie curves etc\n",
    "%run InitialSetup.ipynb\n",
    "\n",
    "'''Data Available\n",
    "\n",
    "1) Swap Curves based on today\n",
    "2) Historical Swap Data\n",
    "3) Historical Black Volatility Data\n",
    "4) Historical OIS Data\n",
    "5) Pricers and Hagan Approximation'''"
   ]
  },
  {
   "cell_type": "code",
   "execution_count": 4,
   "metadata": {},
   "outputs": [],
   "source": [
    "# Construct Surface between 5X5 and 20x20 MaturityXTenor tuples\n",
    "it_range = [i for i in range(5, 11)] + [15, 20]\n",
    "\n",
    "# Create tuples of dates\n",
    "iter_list = list(itertools.product(*[it_range, it_range]))\n",
    "\n",
    "# Create similar names to the titles of the vol_data file\n",
    "vol_filt = [str(i)+'Y '+str(j)+'Y' for i, j in iter_list]\n",
    "\n",
    "# Filter vol_data based on criteria\n",
    "vol_surface = vol_data[vol_filt]\n",
    "\n",
    "# Extract the list of dates\n",
    "calc_dates = [datetime.strftime(date, '%Y-%m-%d') for date in vol_data.index]"
   ]
  },
  {
   "cell_type": "code",
   "execution_count": 5,
   "metadata": {},
   "outputs": [],
   "source": [
    "# Vectorize functions\n",
    "Hagan_Vect = np.vectorize(sigma_CEV_Hagan)\n",
    "Black_Vect = np.vectorize(payer_Black)\n",
    "Chi_Square_Vect = np.vectorize(payer_chi_square)"
   ]
  },
  {
   "cell_type": "code",
   "execution_count": null,
   "metadata": {},
   "outputs": [],
   "source": [
    "# Construct our curves for each date\n",
    "#Weird loop done for computational purposes\n",
    "curves = []\n",
    "for i in range(1, 590):\n",
    "    curves.append([swap_curve_construct(x) for x in calc_dates[(i-1)*4:i*4]])\n",
    "\n",
    "# Flatten the list of lists\n",
    "curves =  list(itertools.chain.from_iterable(curves))"
   ]
  },
  {
   "cell_type": "code",
   "execution_count": 162,
   "metadata": {},
   "outputs": [
    {
     "data": {
      "text/plain": [
       "0.04133909923340138"
      ]
     },
     "execution_count": 162,
     "metadata": {},
     "output_type": "execute_result"
    }
   ],
   "source": [
    "st = time.tome\n",
    "test = curves[0]\n",
    "date  = calc_dates[0]\n",
    "e_date = DateParser.parseFormatted(date, '%Y-%m-%d')\n",
    "Settings.instance().setEvaluationDate(e_date)\n",
    "test.forwardRate(e_date, Date(26, 1, 2021), Thirty360(), Simple).rate()"
   ]
  },
  {
   "cell_type": "code",
   "execution_count": null,
   "metadata": {},
   "outputs": [],
   "source": [
    "#Compute forward swap rates for each of the dates\n",
    "forward_swap_rates = []\n",
    "\n",
    "for curve in discount_curves:\n",
    "    forward_rates.append([curve.forwardRate(eval_date + Period(i, Years), eval_date + Period(i+j, Years), \n",
    "                                            Thirty360(), Simple).rate() for i, j in prange(iter_list)])"
   ]
  },
  {
   "cell_type": "code",
   "execution_count": null,
   "metadata": {},
   "outputs": [],
   "source": [
    "# We combine all our data into a single file\n",
    "# Flatten forward_rates\n",
    "f_rates = np.array(list(itertools.chain.from_iterable(forward_rates)))\n",
    "\n",
    "# Flatten Black volatility\n",
    "v_data = vol_data.to_numpy.flatten()\n",
    "\n",
    "# Define list of maturities and tenors\n",
    "maturity_array = np.array([item[1] for item in iter_list]*len(vol_data))\n",
    "tenor_array = np.array([item[0] for item in iter_list]*len(vol_data))\n",
    "\n",
    "# Join f_rates, maturity and tenor and sigma\n",
    "full_data = np.concatenate([maturity_array, tenor_array, f_rates, v_data], axis = 1)"
   ]
  },
  {
   "cell_type": "code",
   "execution_count": null,
   "metadata": {},
   "outputs": [],
   "source": [
    "# Optimization techniques\n",
    "# Define a bivariate function\n",
    "calib_func = lambda beta, sigma: np.sum(np.power(Chi_Square_Vect() - full_data[:,3], 2))\n",
    "\n",
    "# Minimization schemes\n"
   ]
  }
 ],
 "metadata": {
  "kernelspec": {
   "display_name": "Python 3",
   "language": "python",
   "name": "python3"
  }
 },
 "nbformat": 4,
 "nbformat_minor": 2
}
