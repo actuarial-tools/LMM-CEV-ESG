{
 "cells": [
  {
   "cell_type": "code",
   "execution_count": 2,
   "metadata": {},
   "outputs": [],
   "source": [
    "%run InitialSetup.ipynb"
   ]
  },
  {
   "cell_type": "code",
   "execution_count": 3,
   "metadata": {},
   "outputs": [],
   "source": [
    "# Construct Surface between 5X5 and 20x20 MaturityXTenor tuples\n",
    "it_range = [i for i in range(5, 11)] + [15, 20]\n",
    "\n",
    "# Create tuples of dates\n",
    "iter_list = list(itertools.product(*[it_range, it_range]))\n",
    "\n",
    "# Create similar names to the titles of the vol_data file\n",
    "vol_filt = [str(i)+'Y '+str(j)+'Y' for i, j in iter_list]\n",
    "\n",
    "# Filter vol_data based on criteria\n",
    "vol_surface = vol_data[vol_filt]"
   ]
  },
  {
   "cell_type": "code",
   "execution_count": 4,
   "metadata": {},
   "outputs": [],
   "source": [
    "# Vectorize functions\n",
    "Hagan_Vect = np.vectorize(sigma_CEV_Hagan)\n",
    "Black_Vect = np.vectorize(payer_Black)\n",
    "Chi_Square_Vect = np.vectorize(payer_chi_square)"
   ]
  },
  {
   "cell_type": "code",
   "execution_count": 5,
   "metadata": {},
   "outputs": [],
   "source": [
    "# Set data as an array \n",
    "row_wise_vol_data = np.array(vol_surface.values.flatten())\n",
    "\n",
    "# Define list of maturities and tenors\n",
    "eval_dates = [DateParser.parseFormatted(datetime.strftime(date,'%Y-%m-%d'), '%Y-%m-%d') for date in vol_surface.index]\n",
    "eval_dates = np.array(eval_dates)\n",
    "full_eval_dates = np.repeat(eval_dates, vol_surface.shape[1])\n",
    "\n",
    "#Repeat each date for each swaption we selected in vol_surface\n",
    "maturity_array = np.array([item[1] for item in iter_list]*len(vol_data))\n",
    "maturities = [date + Period(int(i), Years) for date, i in zip(full_eval_dates, maturity_array)]\n",
    "maturities = np.array(maturities)\n",
    "#tenor_array = np.array([item[0] for item in iter_list]*len(vol_data))\n",
    "\n",
    "#Forward Rates to be added\n",
    "\n",
    "#Construct the full calibration data\n",
    "full_calib_data = np.matrix(np.stack([full_eval_dates,maturities, row_wise_vol_data], axis = 1))"
   ]
  },
  {
   "cell_type": "code",
   "execution_count": 6,
   "metadata": {},
   "outputs": [],
   "source": [
    "# Find optimal sigma in Hagan Approx \n",
    "S0 = 0.035\n",
    "K = 0.035\n",
    "sigma = 0.09999978695526811\n",
    "sigma2 = 0.07\n",
    "beta = 0.35\n",
    "\n",
    "#Test0 = sigma and Test1 = beta\n",
    "# Construct the function to be optimized\n",
    "opt_func = lambda test: np.sum(np.square(Hagan_Vect(S0, K ,test[0], test[1], \n",
    "                                                full_calib_data[:3000,0], \n",
    "                                                full_calib_data[:3000,1]) \n",
    "                                                - full_calib_data[:3000,2]))"
   ]
  },
  {
   "cell_type": "code",
   "execution_count": null,
   "metadata": {},
   "outputs": [],
   "source": [
    "'''OPTIMIZATION SCHEMES'''\n",
    "'''1) Newton's Method'''\n",
    "# optimize.newton(opt_func, [0.01, 0.5], tol = 1e-5, maxiter=100000)"
   ]
  },
  {
   "cell_type": "code",
   "execution_count": null,
   "metadata": {},
   "outputs": [],
   "source": [
    "'''2) SHGO Algorithm'''\n",
    "start_opti = time.time()\n",
    "optimize.shgo(opt_func, bounds = [(0, 1), (0, 1)], n=1000,iters = 1e+9, \n",
    "              sampling_method='sobol',\n",
    "             options = {'ftol': 1e-9})\n",
    "end_opti = time.time()"
   ]
  },
  {
   "cell_type": "code",
   "execution_count": null,
   "metadata": {},
   "outputs": [],
   "source": [
    "'''3) Least Squares Optimization'''\n",
    "start_LSO = time.time()\n",
    "optimize.least_squares(opt_func, x0 = [0.01,0.5], bounds = [(0, 1),(0, 1)],\n",
    "                       ftol = 1e-9, \n",
    "                       xtol=1e-09, \n",
    "                       gtol=1e-09)\n",
    "end_LSO = time.time()"
   ]
  },
  {
   "cell_type": "code",
   "execution_count": null,
   "metadata": {},
   "outputs": [],
   "source": [
    "'''4) Dual Annealing Optimization'''\n",
    "start_DAO = time.time()\n",
    "optimize.least_squares(opt_func, bounds = [(0, 1),(0, 1)],\n",
    "                       maxiter = 1e+9, \n",
    "                       xtol=1e-09, \n",
    "                       gtol=1e-09)\n",
    "end_DAO = time.time()"
   ]
  },
  {
   "cell_type": "code",
   "execution_count": null,
   "metadata": {},
   "outputs": [],
   "source": [
    "'''5) Fmin tnc Optimization'''\n",
    "start_TNC = time.time()\n",
    "optimize.fmin_tnc(opt_func, \n",
    "                  x0 = [0.01,0.5],\n",
    "                  bounds = [(0, 1),(0, 1)],\n",
    "                  approx_grad = True,\n",
    "                  epsilon= 1e-9)\n",
    "end_TNC = time.time()"
   ]
  },
  {
   "cell_type": "code",
   "execution_count": null,
   "metadata": {},
   "outputs": [],
   "source": [
    "'''6) Fmin l_bfgs_b Optimization'''\n",
    "start_BFGS = time.time()\n",
    "optimize.fmin_l_bfgs_b(opt_func, \n",
    "                  x0 = [0.01,0.5],\n",
    "                  bounds = [(0, 1),(0, 1)],\n",
    "                  approx_grad = True,\n",
    "                  m = 1e+9)\n",
    "end_BFGS = time.time()"
   ]
  },
  {
   "cell_type": "code",
   "execution_count": null,
   "metadata": {},
   "outputs": [],
   "source": [
    "'''7) Powell Optimization'''\n",
    "start_Pow = time.time()\n",
    "optimize.fmin_powell(opt_func, \n",
    "                  x0 = [0.01,0.5],\n",
    "                  maxiter = 1e+9, \n",
    "                  xtol=1e-09, \n",
    "                  ftol=1e-09)\n",
    "end_Pow = time.time()"
   ]
  },
  {
   "cell_type": "code",
   "execution_count": null,
   "metadata": {},
   "outputs": [],
   "source": [
    "'''8) Differential Evolution Optimization'''\n",
    "start_DEO = time.time()\n",
    "optimize.fmin_powell(opt_func, \n",
    "                  bounds = [(0, 1),(0, 1)],\n",
    "                  maxiter = 1e+9, \n",
    "                  tol=1e-09)\n",
    "end_DEO = time.time()"
   ]
  },
  {
   "cell_type": "code",
   "execution_count": null,
   "metadata": {},
   "outputs": [],
   "source": [
    "'''9) Basinhopping Optimization'''\n",
    "start_BHO = time.time()\n",
    "optimize.basinhopping(opt_func, \n",
    "                  x0 = [0.01,0.5],\n",
    "                  niter = 1e+9)\n",
    "end_BHO = time.time()"
   ]
  },
  {
   "cell_type": "code",
   "execution_count": null,
   "metadata": {},
   "outputs": [],
   "source": [
    "'''10) SLSQP Optimization'''\n",
    "start_SLSQP = time.time()\n",
    "optimize.fmin_slsqp(opt_func, \n",
    "                  x0 = [0.01,0.5],\n",
    "                  bounds = [(0, 1),(0, 1)],\n",
    "                  iter = 1e+9)\n",
    "end_SLSQP = time.time()"
   ]
  }
 ],
 "metadata": {
  "kernelspec": {
   "display_name": "Python 3",
   "language": "python",
   "name": "python3"
  },
  "language_info": {
   "codemirror_mode": {
    "name": "ipython",
    "version": 3
   },
   "file_extension": ".py",
   "mimetype": "text/x-python",
   "name": "python",
   "nbconvert_exporter": "python",
   "pygments_lexer": "ipython3",
   "version": "3.7.3"
  }
 },
 "nbformat": 4,
 "nbformat_minor": 2
}
