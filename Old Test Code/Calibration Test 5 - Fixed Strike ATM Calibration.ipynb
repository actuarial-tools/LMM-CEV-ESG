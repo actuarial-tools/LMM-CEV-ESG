{
 "cells": [
  {
   "cell_type": "code",
   "execution_count": 1,
   "metadata": {},
   "outputs": [],
   "source": [
    "%run InitialSetup.ipynb"
   ]
  },
  {
   "cell_type": "code",
   "execution_count": 179,
   "metadata": {},
   "outputs": [],
   "source": [
    "# Construct Surface between 5X5 and 20x20 MaturityXTenor tuples\n",
    "it_range = [i for i in range(5, 11)] + [15, 20]\n",
    "\n",
    "# Create tuples of dates\n",
    "iter_list = list(itertools.product(*[it_range, it_range]))\n",
    "\n",
    "# Create similar names to the titles of the vol_data file\n",
    "vol_filt = [str(i)+'Y '+str(j)+'Y' for i, j in iter_list]\n",
    "\n",
    "# Filter vol_data based on criteria\n",
    "vol_surface = vol_data[vol_filt]\n",
    "\n",
    "# Select Training Data up to 2017\n",
    "vol_surface = vol_surface[:'2016-12-31']\n",
    "\n",
    "#Select Test Data\n",
    "vol_surface_test = vol_data[vol_filt]['2016-12-31':]"
   ]
  },
  {
   "cell_type": "code",
   "execution_count": 48,
   "metadata": {},
   "outputs": [],
   "source": [
    "# Vectorize functions\n",
    "Hagan_Vect = np.vectorize(sigma_CEV_Hagan)\n",
    "Black_Vect = np.vectorize(payer_Black)\n",
    "Chi_Square_Vect = np.vectorize(payer_chi_square)"
   ]
  },
  {
   "cell_type": "code",
   "execution_count": null,
   "metadata": {},
   "outputs": [],
   "source": [
    "# Set data as an array \n",
    "row_wise_vol_data = np.array(vol_surface.values.flatten())/10000\n",
    "\n",
    "# Define list of maturities and tenors\n",
    "eval_dates = [DateParser.parseFormatted(datetime.strftime(date,'%Y-%m-%d'), '%Y-%m-%d') for date in vol_surface.index]\n",
    "eval_dates = np.array(eval_dates)\n",
    "full_eval_dates = np.repeat(eval_dates, vol_surface.shape[1])\n",
    "\n",
    "#Repeat each date for each swaption we selected in vol_surface\n",
    "maturity_array = np.array([item[1] for item in iter_list]*len(vol_surface))\n",
    "maturities = [date + Period(int(i), Years) for date, i in zip(full_eval_dates, maturity_array)]\n",
    "maturities = np.array(maturities)\n",
    "#tenor_array = np.array([item[0] for item in iter_list]*len(vol_data))\n",
    "\n",
    "#Forward Rates to be added\n",
    "\n",
    "#Construct the full calibration data\n",
    "full_calib_data = np.matrix(np.stack([full_eval_dates,maturities, row_wise_vol_data], axis = 1))"
   ]
  },
  {
   "cell_type": "code",
   "execution_count": 247,
   "metadata": {},
   "outputs": [],
   "source": [
    "# Find optimal sigma in Hagan Approx \n",
    "S0 = 0.025\n",
    "K = 0.025\n",
    "sigma = 0.09999978695526811\n",
    "sigma2 = 0.07\n",
    "beta = 0.35\n",
    "\n",
    "# Test0 = sigma and Test1 = beta\n",
    "# Construct the function to be optimized\n",
    "opt_func = lambda test: np.sum(np.square(Hagan_Vect(S0, K ,test[0], test[1], \n",
    "                                                full_calib_data[:,0], \n",
    "                                                full_calib_data[:,1]) \n",
    "                                                - full_calib_data[:,2]))"
   ]
  },
  {
   "cell_type": "code",
   "execution_count": null,
   "metadata": {},
   "outputs": [],
   "source": [
    "'''3) Least Squares Optimization'''\n",
    "start_LSO = time.time()\n",
    "value_LS = optimize.least_squares(opt_func, x0 = [0.01,0.5],\n",
    "                       ftol = 1e-9, \n",
    "                       xtol=1e-09, \n",
    "                       gtol=1e-09, \n",
    "                       method = 'trf')\n",
    "end_LSO = time.time()\n",
    "\n",
    "'''4) Dual Annealing Optimization'''\n",
    "start_DAO = time.time()\n",
    "value_DAO = optimize.dual_annealing(opt_func_100, bounds = [(0, 1),(0, 1)]) \n",
    "#                        ftol=1e-09, \n",
    "#                        ftol=1e-09)\n",
    "end_DAO = time.time()\n",
    "\n",
    "'''5) Fmin tnc Optimization'''\n",
    "start_TNC = time.time()\n",
    "value_TNC = optimize.fmin_tnc(opt_func_100, \n",
    "                  x0 = [0.01,0.5],\n",
    "                  bounds = [(0, 1),(0, 1)],\n",
    "                  approx_grad = True,\n",
    "                  epsilon= 1e-9)\n",
    "end_TNC = time.time()\n",
    "\n",
    "'''6) Fmin l_bfgs_b Optimization'''\n",
    "start_BFGS = time.time()\n",
    "value_BFGS = optimize.fmin_l_bfgs_b(opt_func_100, \n",
    "                  x0 = [0.01,0.5],\n",
    "                  bounds = [(0, 1),(0, 1)],\n",
    "                  approx_grad = True)\n",
    "end_BFGS = time.time()\n",
    "\n",
    "'''7) Powell Optimization'''\n",
    "start_Pow = time.time()\n",
    "value_Pow = optimize.fmin_powell(opt_func_100, \n",
    "                  x0 = [0.01,0.5],\n",
    "                  maxiter = 1e+9, \n",
    "                  xtol=1e-09, \n",
    "                  ftol=1e-09)\n",
    "end_Pow = time.time()\n",
    "\n",
    "'''8) Differential Evolution Optimization'''\n",
    "start_DEO = time.time()\n",
    "value_DEO = optimize.fmin_powell(opt_func_100, \n",
    "                     x0 = [0.01,0.5],\n",
    "                  maxiter = 1e+9)\n",
    "end_DEO = time.time()\n",
    "\n",
    "'''10) SLSQP Optimization'''\n",
    "start_SLSQP = time.time()\n",
    "value_SLSQP = optimize.fmin_slsqp(opt_func_100, \n",
    "                  x0 = [0.01,0.5],\n",
    "                  bounds = [(0, 1),(0, 1)],\n",
    "                  iter = 1e+9)\n",
    "end_SLSQP = time.time()"
   ]
  },
  {
   "cell_type": "code",
   "execution_count": 249,
   "metadata": {},
   "outputs": [
    {
     "name": "stdout",
     "output_type": "stream",
     "text": [
      "+------------------------+------------------------+--------------------+---------------------+\n",
      "|       Algorithms       |         Sigma          |        Beta        |        Error        |\n",
      "+------------------------+------------------------+--------------------+---------------------+\n",
      "|     Least Squares      | 0.0005395398569453848  | 0.5002988223601984 | 0.33668462847629843 |\n",
      "|     Dual Annealing     |  0.001838792145459032  | 0.9999407037021425 |  0.5807118829688934 |\n",
      "|    TNC optimization    | 0.00029118397308863786 | 0.5003552075026217 |  0.580710681404637  |\n",
      "|          BFGS          |  0.00181733159968711   | 0.9967586846992861 |  0.5807127738442021 |\n",
      "|         Powell         | 0.0002908029537403325  | 0.5000000024570254 |  0.5807101468415898 |\n",
      "| Differential Evolution | 0.00029385085128537944 | 0.5028264495548495 |  0.5807101464652882 |\n",
      "|         SLSQP          |  0.001213260602629589  | 0.8955181904674421 |  0.5982499740159231 |\n",
      "+------------------------+------------------------+--------------------+---------------------+\n"
     ]
    }
   ],
   "source": [
    "from prettytable import PrettyTable\n",
    "names = ['Least Squares', 'Dual Annealing', 'TNC optimization', 'BFGS', 'Powell', 'Differential Evolution',\n",
    "        'SLSQP']\n",
    "error = [opt_func(value_LS.x), opt_func(value_DAO.x),opt_func(value_TNC[0]), opt_func(value_BFGS[0]),\n",
    "         opt_func(value_Pow),opt_func(value_DEO),opt_func(value_SLSQP)]\n",
    "\n",
    "sigma = [list(value_LS.x)[0],list(value_DAO.x)[0], list(value_TNC[0])[0], list(value_BFGS[0])[0],\n",
    "              list(value_Pow)[0], list(value_DEO)[0], list(value_SLSQP)[0] ]\n",
    "beta = [list(value_LS.x)[1],list(value_DAO.x)[1], list(value_TNC[0])[1], list(value_BFGS[0])[1],\n",
    "              list(value_Pow)[1], list(value_DEO)[1], list(value_SLSQP)[1]]\n",
    "\n",
    "headers = [\"Algorithms\", \"Sigma\", \"Beta\", \"Error\"]\n",
    "t = PrettyTable()\n",
    "t.add_column(headers[0],  list(names))\n",
    "t.add_column(headers[1],  list(sigma))\n",
    "t.add_column(headers[2],  list(beta))\n",
    "t.add_column(headers[3],  list(error))\n",
    "print(t)"
   ]
  },
  {
   "cell_type": "code",
   "execution_count": 250,
   "metadata": {},
   "outputs": [],
   "source": [
    "'Test Calibration'\n",
    "S0 = 0.025\n",
    "K = 0.025\n",
    "\n",
    "# Set data as an array \n",
    "row_wise_vol_data_test = np.array(vol_surface_test.values.flatten())/10000\n",
    "\n",
    "# Define list of maturities and tenors\n",
    "eval_dates_test = [DateParser.parseFormatted(datetime.strftime(date,'%Y-%m-%d'), '%Y-%m-%d') \n",
    "              for date in vol_surface_test.index]\n",
    "eval_dates_test = np.array(eval_dates_test)\n",
    "full_eval_dates_test = np.repeat(eval_dates_test, vol_surface_test.shape[1])\n",
    "\n",
    "#Repeat each date for each swaption we selected in vol_surface\n",
    "maturity_array_test = np.array([item[1] for item in iter_list]*len(vol_surface_test))\n",
    "maturities_test = [date + Period(int(i), Years) for date, i in zip(full_eval_dates_test, maturity_array_test)]\n",
    "maturities_test = np.array(maturities_test)\n",
    "#tenor_array = np.array([item[0] for item in iter_list]*len(vol_data))\n",
    "\n",
    "#Forward Rates to be added\n",
    "\n",
    "#Construct the full calibration data\n",
    "full_calib_data_test = np.matrix(np.stack([full_eval_dates_test,\n",
    "                                           maturities_test, \n",
    "                                           row_wise_vol_data_test], axis = 1))\n"
   ]
  },
  {
   "cell_type": "code",
   "execution_count": 252,
   "metadata": {},
   "outputs": [],
   "source": [
    "\"Define a new error function\"\n",
    "opt_func_test = lambda test: np.sum(np.square(Hagan_Vect(S0, K ,test[0], test[1], \n",
    "                                                full_calib_data_test[:,0], \n",
    "                                                full_calib_data_test[:,1]) \n",
    "                                                - full_calib_data_test[:,2]))"
   ]
  },
  {
   "cell_type": "code",
   "execution_count": 253,
   "metadata": {},
   "outputs": [
    {
     "name": "stdout",
     "output_type": "stream",
     "text": [
      "+------------------------+------------------------+--------------------+---------------------+\n",
      "|       Algorithms       |         Sigma          |        Beta        |        Error        |\n",
      "+------------------------+------------------------+--------------------+---------------------+\n",
      "|     Least Squares      | 0.0005395398569453848  | 0.5002988223601984 | 0.33668462847629843 |\n",
      "|     Dual Annealing     |  0.001838792145459032  | 0.9999407037021425 |  0.5807118829688934 |\n",
      "|    TNC optimization    | 0.00029118397308863786 | 0.5003552075026217 |  0.580710681404637  |\n",
      "|          BFGS          |  0.00181733159968711   | 0.9967586846992861 |  0.5807127738442021 |\n",
      "|         Powell         | 0.0002908029537403325  | 0.5000000024570254 |  0.5807101468415898 |\n",
      "| Differential Evolution | 0.00029385085128537944 | 0.5028264495548495 |  0.5807101464652882 |\n",
      "|         SLSQP          |  0.001213260602629589  | 0.8955181904674421 |  0.5982499740159231 |\n",
      "+------------------------+------------------------+--------------------+---------------------+ +------------------------+------------------------+\n",
      "|       Algorithms       |     Squared Error      |\n",
      "+------------------------+------------------------+\n",
      "|     Least Squares      | 0.0005395398569453848  |\n",
      "|     Dual Annealing     |  0.001838792145459032  |\n",
      "|    TNC optimization    | 0.00029118397308863786 |\n",
      "|          BFGS          |  0.00181733159968711   |\n",
      "|         Powell         | 0.0002908029537403325  |\n",
      "| Differential Evolution | 0.00029385085128537944 |\n",
      "|         SLSQP          |  0.001213260602629589  |\n",
      "+------------------------+------------------------+\n"
     ]
    }
   ],
   "source": [
    "\"Display the test results\"\n",
    "names = ['Least Squares', 'Dual Annealing', 'TNC optimization', 'BFGS', 'Powell', 'Differential Evolution',\n",
    "        'SLSQP']\n",
    "error = [opt_func_test(value_LS.x), opt_func_test(value_DAO.x),opt_func_test(value_TNC[0]), \n",
    "         opt_func_test(value_BFGS[0]),\n",
    "         opt_func_test(value_Pow),opt_func_test(value_DEO),opt_func_test(value_SLSQP)]\n",
    "\n",
    "headers = [\"Algorithms\", \"Squared Error\"]\n",
    "t2 = PrettyTable()\n",
    "t2.add_column(headers[0],  list(names))\n",
    "t2.add_column(headers[1],  list(sigma))\n",
    "print(t, t2)"
   ]
  },
  {
   "cell_type": "code",
   "execution_count": 254,
   "metadata": {},
   "outputs": [],
   "source": [
    "\"TESTING THE LEVENBERG MARQUART ALGORITHM\"\n",
    "from lmfit import minimize, Parameters, Parameter, report_fit\n",
    "\n",
    "#Define the Objective function\n",
    "def opt_func_lm(params):\n",
    "    sigma = params['sigma']\n",
    "    beta = params['beta']\n",
    "    \n",
    "    results = (Hagan_Vect(S0, K ,params['sigma'], params['beta'], \n",
    "                                                full_calib_data[:,0], \n",
    "                                                full_calib_data[:,1]) \n",
    "                                                - full_calib_data[:,2])\n",
    "    return(results)"
   ]
  },
  {
   "cell_type": "code",
   "execution_count": null,
   "metadata": {},
   "outputs": [],
   "source": [
    "params = Parameters()\n",
    "params.add('sigma',value = 0.01, min = 0, max = 1)\n",
    "params.add('beta', value = 0.3, min = 0, max = 1)\n",
    "out = minimize(opt_func_lm, params)"
   ]
  }
 ],
 "metadata": {
  "kernelspec": {
   "display_name": "Python 3",
   "language": "python",
   "name": "python3"
  },
  "language_info": {
   "codemirror_mode": {
    "name": "ipython",
    "version": 3
   },
   "file_extension": ".py",
   "mimetype": "text/x-python",
   "name": "python",
   "nbconvert_exporter": "python",
   "pygments_lexer": "ipython3",
   "version": "3.7.3"
  }
 },
 "nbformat": 4,
 "nbformat_minor": 2
}
